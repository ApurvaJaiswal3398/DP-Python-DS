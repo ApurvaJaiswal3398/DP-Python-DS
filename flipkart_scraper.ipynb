{
 "cells": [
  {
   "cell_type": "code",
   "execution_count": 1,
   "metadata": {},
   "outputs": [],
   "source": [
    "from dputils.scrape import Scraper, Tag\n",
    "import pandas as pd\n",
    "import numpy as np"
   ]
  },
  {
   "cell_type": "code",
   "execution_count": 3,
   "metadata": {},
   "outputs": [
    {
     "data": {
      "text/plain": [
       "<title>Mobiles- Buy Products Online at Best Price in India - All Categories | Flipkart.com</title>"
      ]
     },
     "execution_count": 3,
     "metadata": {},
     "output_type": "execute_result"
    }
   ],
   "source": [
    "query = 'mobiles'.replace(' ', '+')\n",
    "page = 1\n",
    "url = f'https://www.flipkart.com/search?q={query}&page={page}'\n",
    "scrapedata = Scraper(url)\n",
    "scrapedata.soup.title"
   ]
  },
  {
   "cell_type": "code",
   "execution_count": 4,
   "metadata": {},
   "outputs": [],
   "source": [
    "target = Tag(cls='_1YokD2 _3Mn1Gg')\n",
    "items = Tag(cls='_3pLy-c row')\n",
    "title = Tag(cls='_4rR01T')\n",
    "rating = Tag(cls='_3LWZlK')\n",
    "offer_price = Tag(cls='_30jeq3 _1_WHN1')\n",
    "orgprice = Tag(cls='_3I9_wc _27UcVY')\n",
    "# img = Tag('img', attr='src')\n",
    "output  = scrapedata.get_all(target, items, name=title, rating=rating, org_price=orgprice, offer_price=offer_price)#, img=img)"
   ]
  },
  {
   "cell_type": "code",
   "execution_count": 6,
   "metadata": {},
   "outputs": [],
   "source": [
    "def get_flipkart_data(query, page=1):\n",
    "    url = f'https://www.flipkart.com/search?q={query}&page={page}'\n",
    "    scrapedata = Scraper(url)\n",
    "    target = Tag(cls='_1YokD2 _3Mn1Gg')\n",
    "    items = Tag(cls='_3pLy-c row')\n",
    "    title = Tag(cls='_4rR01T')\n",
    "    rating = Tag(cls='_3LWZlK')\n",
    "    offer_price = Tag(cls='_30jeq3 _1_WHN1')\n",
    "    orgprice = Tag(cls='_3I9_wc _27UcVY')\n",
    "    # img = Tag('img', attr='src')\n",
    "    output  = scrapedata.get_all(target, items, name=title, rating=rating, org_price=orgprice, offer_price=offer_price)#, img=img)\n",
    "    return output"
   ]
  },
  {
   "cell_type": "code",
   "execution_count": 7,
   "metadata": {},
   "outputs": [
    {
     "data": {
      "text/plain": [
       "[{'name': 'POCO M4 Pro (Cool Blue, 128 GB)',\n",
       "  'rating': '4.3',\n",
       "  'org_price': '₹19,999',\n",
       "  'offer_price': '₹12,999'},\n",
       " {'name': 'MOTOROLA g72 (Meteorite Grey, 128 GB)',\n",
       "  'rating': '4.1',\n",
       "  'org_price': '₹21,999',\n",
       "  'offer_price': '₹14,999'},\n",
       " {'name': 'MOTOROLA g52 (Charcoal Grey, 128 GB)',\n",
       "  'rating': '4.2',\n",
       "  'org_price': '₹19,999',\n",
       "  'offer_price': '₹12,999'},\n",
       " {'name': 'GREENBERRI RAFALE',\n",
       "  'rating': '4',\n",
       "  'org_price': None,\n",
       "  'offer_price': '₹899'},\n",
       " {'name': 'MOTOROLA g52 (Charcoal Grey, 64 GB)',\n",
       "  'rating': '4.2',\n",
       "  'org_price': '₹17,999',\n",
       "  'offer_price': '₹10,999'},\n",
       " {'name': 'POCO M4 5G (Power Black, 128 GB)',\n",
       "  'rating': '4.2',\n",
       "  'org_price': '₹18,999',\n",
       "  'offer_price': '₹14,999'},\n",
       " {'name': 'POCO M4 5G (Power Black, 64 GB)',\n",
       "  'rating': '4.2',\n",
       "  'org_price': '₹15,999',\n",
       "  'offer_price': '₹12,999'},\n",
       " {'name': 'SAMSUNG Galaxy F14 5G (OMG Black, 128 GB)',\n",
       "  'rating': '4.3',\n",
       "  'org_price': '₹17,490',\n",
       "  'offer_price': '₹14,490'},\n",
       " {'name': 'POCO M4 Pro (Cool Blue, 64 GB)',\n",
       "  'rating': '4.3',\n",
       "  'org_price': '₹17,999',\n",
       "  'offer_price': '₹11,999'},\n",
       " {'name': 'MOTOROLA G32 (Satin Silver, 128 GB)',\n",
       "  'rating': '4.2',\n",
       "  'org_price': '₹18,999',\n",
       "  'offer_price': '₹11,999'},\n",
       " {'name': 'MOTOROLA G32 (Mineral Gray, 128 GB)',\n",
       "  'rating': '4.2',\n",
       "  'org_price': '₹18,999',\n",
       "  'offer_price': '₹11,999'},\n",
       " {'name': 'POCO M4 5G (Cool Blue, 128 GB)',\n",
       "  'rating': '4.2',\n",
       "  'org_price': '₹18,999',\n",
       "  'offer_price': '₹14,999'},\n",
       " {'name': 'SAMSUNG Galaxy F14 5G (GOAT Green, 128 GB)',\n",
       "  'rating': '4.3',\n",
       "  'org_price': '₹17,490',\n",
       "  'offer_price': '₹14,490'},\n",
       " {'name': 'SAMSUNG Galaxy F13 (Nightsky Green, 64 GB)',\n",
       "  'rating': '4.4',\n",
       "  'org_price': '₹14,999',\n",
       "  'offer_price': '₹10,999'},\n",
       " {'name': 'POCO M4 5G (Cool Blue, 64 GB)',\n",
       "  'rating': '4.2',\n",
       "  'org_price': '₹15,999',\n",
       "  'offer_price': '₹12,999'},\n",
       " {'name': 'MOTOROLA g72 (Polar Blue, 128 GB)',\n",
       "  'rating': '4.1',\n",
       "  'org_price': '₹21,999',\n",
       "  'offer_price': '₹14,999'},\n",
       " {'name': 'SAMSUNG Galaxy F13 (Waterfall Blue, 64 GB)',\n",
       "  'rating': '4.4',\n",
       "  'org_price': '₹14,999',\n",
       "  'offer_price': '₹10,999'},\n",
       " {'name': 'MOTOROLA g52 (Metallic White, 128 GB)',\n",
       "  'rating': '4.2',\n",
       "  'org_price': '₹19,999',\n",
       "  'offer_price': '₹12,999'},\n",
       " {'name': 'SAMSUNG Galaxy F13 (Sunrise Copper, 64 GB)',\n",
       "  'rating': '4.4',\n",
       "  'org_price': '₹14,999',\n",
       "  'offer_price': '₹10,999'},\n",
       " {'name': 'realme C55 (Sunshower, 64 GB)',\n",
       "  'rating': '4.4',\n",
       "  'org_price': '₹12,999',\n",
       "  'offer_price': '₹10,999'},\n",
       " {'name': 'realme C55 (Rainy Night, 64 GB)',\n",
       "  'rating': '4.4',\n",
       "  'org_price': '₹12,999',\n",
       "  'offer_price': '₹10,999'},\n",
       " {'name': 'realme C55 (Sunshower, 64 GB)',\n",
       "  'rating': '4.4',\n",
       "  'org_price': '₹13,999',\n",
       "  'offer_price': '₹11,999'},\n",
       " {'name': 'realme C55 (Rainy Night, 64 GB)',\n",
       "  'rating': '4.4',\n",
       "  'org_price': '₹13,999',\n",
       "  'offer_price': '₹11,999'},\n",
       " {'name': 'realme C55 (Rainy Night, 128 GB)',\n",
       "  'rating': '4.5',\n",
       "  'org_price': '₹15,999',\n",
       "  'offer_price': '₹13,999'}]"
      ]
     },
     "execution_count": 7,
     "metadata": {},
     "output_type": "execute_result"
    }
   ],
   "source": [
    "get_flipkart_data('mobiles under 15000')"
   ]
  },
  {
   "cell_type": "code",
   "execution_count": 10,
   "metadata": {},
   "outputs": [
    {
     "name": "stdout",
     "output_type": "stream",
     "text": [
      "Scraped Page 1\n",
      "Scraped Page 2\n",
      "Scraped Page 3\n",
      "Scraped Page 4\n",
      "Scraped Page 5\n",
      "Scraped Page 6\n",
      "Scraped Page 7\n",
      "Scraped Page 8\n",
      "Scraped Page 9\n",
      "Scraped Page 10\n",
      "Scraped Page 11\n",
      "Scraped Page 12\n",
      "Scraped Page 13\n",
      "Scraped Page 14\n",
      "Scraped Page 15\n"
     ]
    }
   ],
   "source": [
    "query = 'mobiles under 15000'\n",
    "all_scrape = []\n",
    "for i in range(1, 16):\n",
    "    sd = get_flipkart_data(query, i)\n",
    "    all_scrape.extend(sd)\n",
    "    print(f'Scraped Page {i}')\n",
    "\n",
    "scraped_data = pd.DataFrame(all_scrape).dropna(how='all')\n",
    "scraped_data.to_csv('Mobiles Under 15000 in Flipkart.csv', index=False)"
   ]
  },
  {
   "cell_type": "code",
   "execution_count": 11,
   "metadata": {},
   "outputs": [
    {
     "name": "stdout",
     "output_type": "stream",
     "text": [
      "<class 'pandas.core.frame.DataFrame'>\n",
      "RangeIndex: 312 entries, 0 to 311\n",
      "Data columns (total 4 columns):\n",
      " #   Column       Non-Null Count  Dtype  \n",
      "---  ------       --------------  -----  \n",
      " 0   name         312 non-null    object \n",
      " 1   rating       308 non-null    float64\n",
      " 2   org_price    259 non-null    object \n",
      " 3   offer_price  312 non-null    object \n",
      "dtypes: float64(1), object(3)\n",
      "memory usage: 9.9+ KB\n"
     ]
    }
   ],
   "source": [
    "# Load Data\n",
    "read_data = pd.read_csv('Mobiles Under 15000 in Flipkart.csv')\n",
    "\n",
    "# Data Preprocesing\n",
    "read_data.info()"
   ]
  },
  {
   "cell_type": "code",
   "execution_count": 20,
   "metadata": {},
   "outputs": [
    {
     "data": {
      "text/plain": [
       "0      ₹14,999\n",
       "1      ₹12,999\n",
       "2      ₹10,999\n",
       "3         ₹799\n",
       "4      ₹14,999\n",
       "        ...   \n",
       "307    ₹14,990\n",
       "308    ₹10,499\n",
       "309    ₹13,996\n",
       "310    ₹17,999\n",
       "311    ₹12,999\n",
       "Name: offer_price, Length: 312, dtype: object"
      ]
     },
     "execution_count": 20,
     "metadata": {},
     "output_type": "execute_result"
    }
   ],
   "source": [
    "read_data['offer_price']"
   ]
  },
  {
   "cell_type": "code",
   "execution_count": 30,
   "metadata": {},
   "outputs": [],
   "source": [
    "# Creating Functions for Data Processing\n",
    "\n",
    "def clean_price(op):\n",
    "    if isinstance(op, str):\n",
    "        if('₹' in op):\n",
    "            op = op.replace(',', '').replace('₹', '')\n",
    "        else:\n",
    "            op = np.nan\n",
    "        return float(op)\n",
    "    return op"
   ]
  },
  {
   "cell_type": "code",
   "execution_count": 31,
   "metadata": {},
   "outputs": [
    {
     "data": {
      "text/plain": [
       "10999.0"
      ]
     },
     "execution_count": 31,
     "metadata": {},
     "output_type": "execute_result"
    }
   ],
   "source": [
    "clean_price(read_data['offer_price'][2])"
   ]
  },
  {
   "cell_type": "code",
   "execution_count": 32,
   "metadata": {},
   "outputs": [],
   "source": [
    "read_data['clean_original_price'] = read_data['org_price'].apply(clean_price)\n",
    "read_data['clean_offer_price'] = read_data['offer_price'].apply(clean_price)"
   ]
  },
  {
   "cell_type": "code",
   "execution_count": 33,
   "metadata": {},
   "outputs": [
    {
     "data": {
      "text/html": [
       "<div>\n",
       "<style scoped>\n",
       "    .dataframe tbody tr th:only-of-type {\n",
       "        vertical-align: middle;\n",
       "    }\n",
       "\n",
       "    .dataframe tbody tr th {\n",
       "        vertical-align: top;\n",
       "    }\n",
       "\n",
       "    .dataframe thead th {\n",
       "        text-align: right;\n",
       "    }\n",
       "</style>\n",
       "<table border=\"1\" class=\"dataframe\">\n",
       "  <thead>\n",
       "    <tr style=\"text-align: right;\">\n",
       "      <th></th>\n",
       "      <th>name</th>\n",
       "      <th>rating</th>\n",
       "      <th>org_price</th>\n",
       "      <th>offer_price</th>\n",
       "      <th>clean_original_price</th>\n",
       "      <th>clean_offer_price</th>\n",
       "    </tr>\n",
       "  </thead>\n",
       "  <tbody>\n",
       "    <tr>\n",
       "      <th>0</th>\n",
       "      <td>MOTOROLA g72 (Meteorite Grey, 128 GB)</td>\n",
       "      <td>4.1</td>\n",
       "      <td>₹21,999</td>\n",
       "      <td>₹14,999</td>\n",
       "      <td>21999.0</td>\n",
       "      <td>14999.0</td>\n",
       "    </tr>\n",
       "    <tr>\n",
       "      <th>1</th>\n",
       "      <td>POCO M4 Pro (Cool Blue, 128 GB)</td>\n",
       "      <td>4.3</td>\n",
       "      <td>₹19,999</td>\n",
       "      <td>₹12,999</td>\n",
       "      <td>19999.0</td>\n",
       "      <td>12999.0</td>\n",
       "    </tr>\n",
       "    <tr>\n",
       "      <th>2</th>\n",
       "      <td>MOTOROLA g52 (Charcoal Grey, 64 GB)</td>\n",
       "      <td>4.2</td>\n",
       "      <td>₹17,999</td>\n",
       "      <td>₹10,999</td>\n",
       "      <td>17999.0</td>\n",
       "      <td>10999.0</td>\n",
       "    </tr>\n",
       "    <tr>\n",
       "      <th>3</th>\n",
       "      <td>GREENBERRI VIRAT</td>\n",
       "      <td>3.7</td>\n",
       "      <td>₹1,499</td>\n",
       "      <td>₹799</td>\n",
       "      <td>1499.0</td>\n",
       "      <td>799.0</td>\n",
       "    </tr>\n",
       "    <tr>\n",
       "      <th>4</th>\n",
       "      <td>POCO M4 5G (Power Black, 128 GB)</td>\n",
       "      <td>4.2</td>\n",
       "      <td>₹18,999</td>\n",
       "      <td>₹14,999</td>\n",
       "      <td>18999.0</td>\n",
       "      <td>14999.0</td>\n",
       "    </tr>\n",
       "    <tr>\n",
       "      <th>...</th>\n",
       "      <td>...</td>\n",
       "      <td>...</td>\n",
       "      <td>...</td>\n",
       "      <td>...</td>\n",
       "      <td>...</td>\n",
       "      <td>...</td>\n",
       "    </tr>\n",
       "    <tr>\n",
       "      <th>307</th>\n",
       "      <td>OPPO A54 (Crystal Black, 128 GB)</td>\n",
       "      <td>4.4</td>\n",
       "      <td>₹15,990</td>\n",
       "      <td>₹14,990</td>\n",
       "      <td>15990.0</td>\n",
       "      <td>14990.0</td>\n",
       "    </tr>\n",
       "    <tr>\n",
       "      <th>308</th>\n",
       "      <td>Redmi 6 (Gold, 64 GB)</td>\n",
       "      <td>4.4</td>\n",
       "      <td>NaN</td>\n",
       "      <td>₹10,499</td>\n",
       "      <td>NaN</td>\n",
       "      <td>10499.0</td>\n",
       "    </tr>\n",
       "    <tr>\n",
       "      <th>309</th>\n",
       "      <td>Redmi 10 Prime (Phantom Black, 128 GB)</td>\n",
       "      <td>4.1</td>\n",
       "      <td>₹16,999</td>\n",
       "      <td>₹13,996</td>\n",
       "      <td>16999.0</td>\n",
       "      <td>13996.0</td>\n",
       "    </tr>\n",
       "    <tr>\n",
       "      <th>310</th>\n",
       "      <td>POCO M2 Pro (Two Shades of Black, 64 GB)</td>\n",
       "      <td>4.4</td>\n",
       "      <td>NaN</td>\n",
       "      <td>₹17,999</td>\n",
       "      <td>NaN</td>\n",
       "      <td>17999.0</td>\n",
       "    </tr>\n",
       "    <tr>\n",
       "      <th>311</th>\n",
       "      <td>realme C15 (Power Blue, 64 GB)</td>\n",
       "      <td>4.4</td>\n",
       "      <td>NaN</td>\n",
       "      <td>₹12,999</td>\n",
       "      <td>NaN</td>\n",
       "      <td>12999.0</td>\n",
       "    </tr>\n",
       "  </tbody>\n",
       "</table>\n",
       "<p>312 rows × 6 columns</p>\n",
       "</div>"
      ],
      "text/plain": [
       "                                         name  rating org_price offer_price  \\\n",
       "0       MOTOROLA g72 (Meteorite Grey, 128 GB)     4.1   ₹21,999     ₹14,999   \n",
       "1             POCO M4 Pro (Cool Blue, 128 GB)     4.3   ₹19,999     ₹12,999   \n",
       "2         MOTOROLA g52 (Charcoal Grey, 64 GB)     4.2   ₹17,999     ₹10,999   \n",
       "3                            GREENBERRI VIRAT     3.7    ₹1,499        ₹799   \n",
       "4            POCO M4 5G (Power Black, 128 GB)     4.2   ₹18,999     ₹14,999   \n",
       "..                                        ...     ...       ...         ...   \n",
       "307          OPPO A54 (Crystal Black, 128 GB)     4.4   ₹15,990     ₹14,990   \n",
       "308                     Redmi 6 (Gold, 64 GB)     4.4       NaN     ₹10,499   \n",
       "309    Redmi 10 Prime (Phantom Black, 128 GB)     4.1   ₹16,999     ₹13,996   \n",
       "310  POCO M2 Pro (Two Shades of Black, 64 GB)     4.4       NaN     ₹17,999   \n",
       "311            realme C15 (Power Blue, 64 GB)     4.4       NaN     ₹12,999   \n",
       "\n",
       "     clean_original_price  clean_offer_price  \n",
       "0                 21999.0            14999.0  \n",
       "1                 19999.0            12999.0  \n",
       "2                 17999.0            10999.0  \n",
       "3                  1499.0              799.0  \n",
       "4                 18999.0            14999.0  \n",
       "..                    ...                ...  \n",
       "307               15990.0            14990.0  \n",
       "308                   NaN            10499.0  \n",
       "309               16999.0            13996.0  \n",
       "310                   NaN            17999.0  \n",
       "311                   NaN            12999.0  \n",
       "\n",
       "[312 rows x 6 columns]"
      ]
     },
     "execution_count": 33,
     "metadata": {},
     "output_type": "execute_result"
    }
   ],
   "source": [
    "read_data"
   ]
  },
  {
   "cell_type": "code",
   "execution_count": 34,
   "metadata": {},
   "outputs": [],
   "source": [
    "read_data.to_csv('Mobiles Under 15000 in Flipkart (Cleaned).csv', index=False)"
   ]
  }
 ],
 "metadata": {
  "kernelspec": {
   "display_name": "base",
   "language": "python",
   "name": "python3"
  },
  "language_info": {
   "codemirror_mode": {
    "name": "ipython",
    "version": 3
   },
   "file_extension": ".py",
   "mimetype": "text/x-python",
   "name": "python",
   "nbconvert_exporter": "python",
   "pygments_lexer": "ipython3",
   "version": "3.10.9"
  },
  "orig_nbformat": 4
 },
 "nbformat": 4,
 "nbformat_minor": 2
}
