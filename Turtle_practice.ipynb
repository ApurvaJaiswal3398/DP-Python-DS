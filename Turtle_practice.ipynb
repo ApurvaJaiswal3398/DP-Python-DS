{
 "cells": [
  {
   "cell_type": "code",
   "execution_count": 2,
   "metadata": {},
   "outputs": [],
   "source": [
    "from turtle import *"
   ]
  },
  {
   "cell_type": "code",
   "execution_count": 51,
   "metadata": {},
   "outputs": [],
   "source": [
    "# Letter 'S'\n",
    "pencolor('blue')\n",
    "pensize(3)\n",
    "speed('fastest') \n",
    "for i in range(180):\n",
    "    backward(1)\n",
    "    left(1)\n",
    "for i in range(180):\n",
    "    backward(1)\n",
    "    right(1)    \n",
    "mainloop()"
   ]
  },
  {
   "cell_type": "code",
   "execution_count": 42,
   "metadata": {},
   "outputs": [],
   "source": [
    "# Hour Glass \n",
    "color('red')\n",
    "pensize(5)\n",
    "speed('fast')\n",
    "fd(100)\n",
    "right(90)\n",
    "penup()\n",
    "fd(100)\n",
    "right(90)\n",
    "pendown()\n",
    "fd(100)\n",
    "right(90)\n",
    "penup()\n",
    "fd(100)\n",
    "pendown()\n",
    "pencolor('green')\n",
    "right(135)\n",
    "forward(100*1.414)\n",
    "left(135)\n",
    "penup()\n",
    "fd(100)\n",
    "left(135)\n",
    "pendown()\n",
    "forward(100*1.414)\n",
    "right(45)\n",
    "'''pencolor('blue')\n",
    "for i in range(160):\n",
    "    fd(1)\n",
    "    right(1.15)\n",
    "'''\n",
    "mainloop()"
   ]
  },
  {
   "cell_type": "code",
   "execution_count": 36,
   "metadata": {},
   "outputs": [],
   "source": [
    "# Letter 'U'\n",
    "pencolor('blue')\n",
    "pensize(3)\n",
    "speed('slow')\n",
    "right(90)\n",
    "fd(65)\n",
    "for i in range(90):\n",
    "    fd(1)\n",
    "    left(2)\n",
    "fd(65)\n",
    "mainloop()\n"
   ]
  },
  {
   "cell_type": "code",
   "execution_count": 33,
   "metadata": {},
   "outputs": [],
   "source": [
    "# Letter 'Y' \n",
    "pencolor('blue')\n",
    "pensize(3)\n",
    "speed('slow')\n",
    "right(90)\n",
    "fd(50)\n",
    "right(180)\n",
    "penup()\n",
    "fd(50)\n",
    "left(45)\n",
    "down()\n",
    "fd(50)\n",
    "up()\n",
    "back(50)\n",
    "right(90)\n",
    "pendown()\n",
    "fd(50)\n",
    "mainloop()\n"
   ]
  },
  {
   "cell_type": "code",
   "execution_count": 53,
   "metadata": {},
   "outputs": [],
   "source": [
    "pencolor('blue')\n",
    "pensize(3)\n",
    "speed('slow')\n",
    "# Alphabet \"U\"\n",
    "right(90)\n",
    "fd(65)\n",
    "for i in range(90):\n",
    "    fd(1)\n",
    "    left(2)\n",
    "fd(65)\n",
    "\n",
    "#Gap Between \"U\" & \"Y\"\n",
    "up()\n",
    "right(180)\n",
    "fd(25)\n",
    "left(90)\n",
    "fd(50)\n",
    "\n",
    "# Alphabet \"Y\"\n",
    "down()\n",
    "right(90)\n",
    "fd(50)\n",
    "right(180)\n",
    "penup()\n",
    "fd(50)\n",
    "left(45)\n",
    "down()\n",
    "fd(50)\n",
    "up()\n",
    "back(50)\n",
    "right(90)\n",
    "pendown()\n",
    "fd(50)\n",
    "\n",
    "mainloop()"
   ]
  },
  {
   "cell_type": "code",
   "execution_count": null,
   "metadata": {},
   "outputs": [],
   "source": []
  }
 ],
 "metadata": {
  "kernelspec": {
   "display_name": "base",
   "language": "python",
   "name": "python3"
  },
  "language_info": {
   "codemirror_mode": {
    "name": "ipython",
    "version": 3
   },
   "file_extension": ".py",
   "mimetype": "text/x-python",
   "name": "python",
   "nbconvert_exporter": "python",
   "pygments_lexer": "ipython3",
   "version": "3.10.9"
  },
  "orig_nbformat": 4
 },
 "nbformat": 4,
 "nbformat_minor": 2
}
