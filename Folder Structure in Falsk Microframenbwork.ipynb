{
 "cells": [
  {
   "attachments": {},
   "cell_type": "markdown",
   "metadata": {},
   "source": [
    "Folder\n",
    "* templates (directory, contains HTML files)\n",
    "* static (directory, contains CSS, JS, Image files)\n",
    "* app.py (server)\n",
    "* ... (other files)\n",
    "* requirements.txt\n",
    "* readme.md"
   ]
  },
  {
   "attachments": {},
   "cell_type": "markdown",
   "metadata": {},
   "source": [
    "Extensions for working in Flask\n",
    "* Happy Flasker\n",
    "* Bootstrap5 quick snippets\n",
    "* JQuery code snippets\n",
    "* SQLite Viewer\n",
    "* SQLite"
   ]
  },
  {
   "attachments": {},
   "cell_type": "markdown",
   "metadata": {},
   "source": [
    "Command to install list of libraries\n",
    "\n",
    "````pip install -r requirements.txt````"
   ]
  },
  {
   "attachments": {},
   "cell_type": "markdown",
   "metadata": {},
   "source": [
    "To run the app on various devices in the same network, change the ````host='127.0.0.1'```` to ````host='0.0.0.0'````"
   ]
  },
  {
   "attachments": {},
   "cell_type": "markdown",
   "metadata": {},
   "source": [
    "Ways to run the flask application, using the terminal\n",
    "\n",
    "* ````py app.py````\n",
    "* ````flask run````"
   ]
  },
  {
   "cell_type": "markdown",
   "metadata": {},
   "source": []
  }
 ],
 "metadata": {
  "language_info": {
   "name": "python"
  },
  "orig_nbformat": 4
 },
 "nbformat": 4,
 "nbformat_minor": 2
}
